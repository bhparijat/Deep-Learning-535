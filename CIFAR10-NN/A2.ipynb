{
 "cells": [
  {
   "cell_type": "code",
   "execution_count": 1,
   "metadata": {
    "collapsed": true
   },
   "outputs": [],
   "source": [
    "import numpy as np\n",
    "import pandas as pd\n",
    "import matplotlib.pyplot as plt"
   ]
  },
  {
   "cell_type": "code",
   "execution_count": null,
   "metadata": {
    "collapsed": true
   },
   "outputs": [],
   "source": [
    "class LinearTransform:\n",
    "    def __init__(self,W,b):\n",
    "        self.W = W\n",
    "        self.b = b\n",
    "    def forward(self,x):\n",
    "        return np.matmul(self.W,x)+b\n",
    "    def backward(self,grad_output,learning_rate=0.0,momentum=0.0,l2_penalty=0.0):\n",
    "        self.W = self.W - learning_rate*(grad_output)\n"
   ]
  },
  {
   "cell_type": "code",
   "execution_count": null,
   "metadata": {
    "collapsed": true
   },
   "outputs": [],
   "source": [
    "class ReLU:\n",
    "    def forward(self,x):\n",
    "        self.a = x.apply(lambda z: z if z>0 else 0)\n",
    "    def backward(self,grad_output,learning_rate=0.0,momentum=0.0,l2_penalty=0.0):\n",
    "        self.a = None"
   ]
  },
  {
   "cell_type": "code",
   "execution_count": null,
   "metadata": {
    "collapsed": true
   },
   "outputs": [],
   "source": [
    "class SigmoidCrossEntropy:\n",
    "    def forward(self,x):\n",
    "        self.opt1 = 1.0 / (1.0 + np.exp(-x))\n",
    "        self.opt2 = 1- opt1\n",
    "    def backward(self,grad_output,learning_rate=0.0,momentum=0.0,l2_penalty=0.0):\n",
    "        return something"
   ]
  },
  {
   "cell_type": "code",
   "execution_count": null,
   "metadata": {
    "collapsed": true
   },
   "outputs": [],
   "source": [
    "class MLP:\n",
    "    def __init__(self,input_dims,hidden_units):\n",
    "        return something\n",
    "    def train(self,x_batch,y_batch,learning_rate,momentum,l2_penalty):\n",
    "        return something\n",
    "    def evalulate(self,x,y):\n",
    "        return soemthing\n",
    "    "
   ]
  }
 ],
 "metadata": {
  "kernelspec": {
   "display_name": "Python 3",
   "language": "python",
   "name": "python3"
  },
  "language_info": {
   "codemirror_mode": {
    "name": "ipython",
    "version": 3
   },
   "file_extension": ".py",
   "mimetype": "text/x-python",
   "name": "python",
   "nbconvert_exporter": "python",
   "pygments_lexer": "ipython3",
   "version": "3.6.8"
  }
 },
 "nbformat": 4,
 "nbformat_minor": 2
}
