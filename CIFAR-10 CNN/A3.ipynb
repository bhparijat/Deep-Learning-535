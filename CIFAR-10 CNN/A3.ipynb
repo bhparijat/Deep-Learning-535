{
 "cells": [
  {
   "cell_type": "code",
   "execution_count": 1,
   "metadata": {},
   "outputs": [],
   "source": [
    "from __future__ import print_function\n",
    "from __future__ import division\n",
    "import torch\n",
    "from torch.autograd import Variable\n",
    "import torch.nn as nn\n",
    "import torch.nn.functional as F\n",
    "import torchvision\n",
    "import torchvision.transforms as transforms\n",
    "import torch.optim as optim\n",
    "import numpy as np\n",
    "import pandas as pd\n",
    "import matplotlib.pyplot as plt"
   ]
  },
  {
   "cell_type": "code",
   "execution_count": 3,
   "metadata": {},
   "outputs": [],
   "source": [
    "class Net(nn.Module):\n",
    "    def __init__(self):\n",
    "        super(Net, self).__init__()\n",
    "        self.conv1 = nn.Conv2d(3, 32, 3, padding=1)\n",
    "        self.conv2 = nn.Conv2d(32, 32, 3, padding=1)\n",
    "        self.conv3 = nn.Conv2d(32, 64, 3, padding=1)\n",
    "        self.conv4 = nn.Conv2d(64, 64, 3, padding=1)\n",
    "        self.conv5 = nn.Conv2d(64,64,3, padding=1)\n",
    "        self.pool = nn.MaxPool2d(2, 2)\n",
    "        self.fc1 = nn.Linear(64 * 8 * 8, 1024)\n",
    "        self.fc = nn.Linear(1024,512)\n",
    "        self.fc2 = nn.Linear(512, 10)\n",
    "        self.batchnorm2 = nn.BatchNorm1d(512)\n",
    "        self.batchnorm1 = nn.BatchNorm1d(1024)\n",
    "    def forward(self, x):\n",
    "        x = F.relu(self.conv1(x))\n",
    "        x = F.relu(self.conv2(x))\n",
    "        x = self.pool(x)\n",
    "        x = F.relu(self.conv3(x))\n",
    "        x = F.relu(self.conv4(x))\n",
    "        x = F.relu(self.conv5(x))\n",
    "        x = self.pool(x)\n",
    "        x = x.view(-1, self.num_flat_features(x))\n",
    "        x = F.relu(self.batchnorm1(self.fc1(x)))\n",
    "        x = F.relu(self.batchnorm2(self.fc(x)))\n",
    "        x = self.fc2(x)\n",
    "        return x\n",
    "\n",
    "    def num_flat_features(self, x):\n",
    "        size = x.size()[1:]  # all dimensions except the batch dimension\n",
    "        num_features = 1\n",
    "        for s in size:\n",
    "            num_features *= s\n",
    "        return num_features\n",
    "\n",
    "def eval_net(dataloader):\n",
    "    correct = 0\n",
    "    total = 0\n",
    "    total_loss = 0\n",
    "    net.eval() # Why would I do this?\n",
    "    criterion = nn.CrossEntropyLoss(size_average=False)\n",
    "    for data in dataloader:\n",
    "        images, labels = data\n",
    "        images, labels = Variable(images).cuda(), Variable(labels).cuda()\n",
    "        outputs = net(images)\n",
    "        _, predicted = torch.max(outputs.data, 1)\n",
    "        total += labels.size(0)\n",
    "        correct += (predicted == labels.data).sum()\n",
    "        loss = criterion(outputs, labels)\n",
    "        total_loss += loss.item()\n",
    "    net.train() # Why would I do this?\n",
    "    print(\"number of correct for this epoch is\",correct.item())\n",
    "    return total_loss / total, correct.item() / total\n"
   ]
  },
  {
   "cell_type": "code",
   "execution_count": 4,
   "metadata": {},
   "outputs": [
    {
     "name": "stdout",
     "output_type": "stream",
     "text": [
      "Files already downloaded and verified\n",
      "Files already downloaded and verified\n",
      "Building model...\n",
      "Start training...\n",
      "    Step:   500 avg_batch_loss: 1.82936\n",
      "    Step:  1000 avg_batch_loss: 1.45759\n",
      "    Step:  1500 avg_batch_loss: 1.30103\n",
      "    Finish training this EPOCH, start evaluating...\n"
     ]
    },
    {
     "name": "stderr",
     "output_type": "stream",
     "text": [
      "/nfs/stak/users/bhattpa/anaconda3/envs/assignment3/lib/python3.6/site-packages/torch/nn/_reduction.py:49: UserWarning: size_average and reduce args will be deprecated, please use reduction='sum' instead.\n",
      "  warnings.warn(warning.format(ret))\n"
     ]
    },
    {
     "name": "stdout",
     "output_type": "stream",
     "text": [
      "number of correct for this epoch is 29617\n",
      "number of correct for this epoch is 5758\n",
      "shapes: torch.Size([16, 3, 32, 32]) torch.Size([16])\n",
      "EPOCH: 1 train_loss: 1.14681 train_acc: 0.59234 test_loss: 1.19392 test_acc 0.57580\n",
      "    Step:   500 avg_batch_loss: 1.16033\n",
      "    Step:  1000 avg_batch_loss: 1.08473\n",
      "    Step:  1500 avg_batch_loss: 1.03895\n",
      "    Finish training this EPOCH, start evaluating...\n",
      "number of correct for this epoch is 31800\n",
      "number of correct for this epoch is 6181\n",
      "shapes: torch.Size([16, 3, 32, 32]) torch.Size([16])\n",
      "EPOCH: 2 train_loss: 1.00529 train_acc: 0.63600 test_loss: 1.07255 test_acc 0.61810\n",
      "    Step:   500 avg_batch_loss: 0.91624\n",
      "    Step:  1000 avg_batch_loss: 0.91800\n",
      "    Step:  1500 avg_batch_loss: 0.89138\n",
      "    Finish training this EPOCH, start evaluating...\n",
      "number of correct for this epoch is 37336\n",
      "number of correct for this epoch is 6944\n",
      "shapes: torch.Size([16, 3, 32, 32]) torch.Size([16])\n",
      "EPOCH: 3 train_loss: 0.71640 train_acc: 0.74672 test_loss: 0.86399 test_acc 0.69440\n",
      "    Step:   500 avg_batch_loss: 0.76199\n",
      "    Step:  1000 avg_batch_loss: 0.77088\n",
      "    Step:  1500 avg_batch_loss: 0.74833\n",
      "    Finish training this EPOCH, start evaluating...\n",
      "number of correct for this epoch is 37752\n",
      "number of correct for this epoch is 6879\n",
      "shapes: torch.Size([16, 3, 32, 32]) torch.Size([16])\n",
      "EPOCH: 4 train_loss: 0.68378 train_acc: 0.75504 test_loss: 0.89864 test_acc 0.68790\n",
      "    Step:   500 avg_batch_loss: 0.65162\n",
      "    Step:  1000 avg_batch_loss: 0.66018\n",
      "    Step:  1500 avg_batch_loss: 0.65372\n",
      "    Finish training this EPOCH, start evaluating...\n",
      "number of correct for this epoch is 40200\n",
      "number of correct for this epoch is 7115\n",
      "shapes: torch.Size([16, 3, 32, 32]) torch.Size([16])\n",
      "EPOCH: 5 train_loss: 0.56455 train_acc: 0.80400 test_loss: 0.85538 test_acc 0.71150\n",
      "    Step:   500 avg_batch_loss: 0.54162\n",
      "    Step:  1000 avg_batch_loss: 0.57217\n",
      "    Step:  1500 avg_batch_loss: 0.58004\n",
      "    Finish training this EPOCH, start evaluating...\n",
      "number of correct for this epoch is 43267\n",
      "number of correct for this epoch is 7401\n",
      "shapes: torch.Size([16, 3, 32, 32]) torch.Size([16])\n",
      "EPOCH: 6 train_loss: 0.39881 train_acc: 0.86534 test_loss: 0.77490 test_acc 0.74010\n",
      "    Step:   500 avg_batch_loss: 0.45459\n",
      "    Step:  1000 avg_batch_loss: 0.47819\n",
      "    Step:  1500 avg_batch_loss: 0.49570\n",
      "    Finish training this EPOCH, start evaluating...\n",
      "number of correct for this epoch is 44630\n",
      "number of correct for this epoch is 7390\n",
      "shapes: torch.Size([16, 3, 32, 32]) torch.Size([16])\n",
      "EPOCH: 7 train_loss: 0.31138 train_acc: 0.89260 test_loss: 0.81209 test_acc 0.73900\n",
      "    Step:   500 avg_batch_loss: 0.37441\n",
      "    Step:  1000 avg_batch_loss: 0.40114\n",
      "    Step:  1500 avg_batch_loss: 0.43613\n",
      "    Finish training this EPOCH, start evaluating...\n",
      "number of correct for this epoch is 45201\n",
      "number of correct for this epoch is 7339\n",
      "shapes: torch.Size([16, 3, 32, 32]) torch.Size([16])\n",
      "EPOCH: 8 train_loss: 0.28083 train_acc: 0.90402 test_loss: 0.84827 test_acc 0.73390\n",
      "    Step:   500 avg_batch_loss: 0.31233\n",
      "    Step:  1000 avg_batch_loss: 0.35084\n",
      "    Step:  1500 avg_batch_loss: 0.35838\n",
      "    Finish training this EPOCH, start evaluating...\n",
      "number of correct for this epoch is 47302\n",
      "number of correct for this epoch is 7449\n",
      "shapes: torch.Size([16, 3, 32, 32]) torch.Size([16])\n",
      "EPOCH: 9 train_loss: 0.16861 train_acc: 0.94604 test_loss: 0.86424 test_acc 0.74490\n",
      "    Step:   500 avg_batch_loss: 0.27166\n",
      "    Step:  1000 avg_batch_loss: 0.30405\n",
      "    Step:  1500 avg_batch_loss: 0.31362\n",
      "    Finish training this EPOCH, start evaluating...\n",
      "number of correct for this epoch is 47994\n",
      "number of correct for this epoch is 7529\n",
      "shapes: torch.Size([16, 3, 32, 32]) torch.Size([16])\n",
      "EPOCH: 10 train_loss: 0.13083 train_acc: 0.95988 test_loss: 0.88837 test_acc 0.75290\n",
      "Finished Training\n",
      "Saving model...\n"
     ]
    }
   ],
   "source": [
    "if __name__ == \"__main__\":\n",
    "    \n",
    "    BATCH_SIZE = 32 #mini_batch size\n",
    "    MAX_EPOCH = 10 #maximum epoch to train\n",
    "\n",
    "    shape = None\n",
    "\n",
    "    all_info = {}\n",
    "    all_info['train']={}\n",
    "    all_info['test']={}\n",
    "    all_info['train']['x'] = range(1,MAX_EPOCH+1)\n",
    "    all_info['test']['x'] = range(1,MAX_EPOCH+1)\n",
    "    all_info['train']['acc_y'] = []\n",
    "    all_info['train']['loss_y'] = []\n",
    "    all_info['test']['acc_y'] = [] \n",
    "    all_info['test']['loss_y'] = []\n",
    "    transform = transforms.Compose(\n",
    "        [transforms.ToTensor(),\n",
    "         transforms.Normalize((0.5, 0.5, 0.5), (0.5, 0.5, 0.5))]) #torchvision.transforms.Normalize(mean, std)\n",
    "\n",
    "    trainset = torchvision.datasets.CIFAR10(root='./data', train=True,\n",
    "                                            download=True, transform=transform)\n",
    "    trainloader = torch.utils.data.DataLoader(trainset, batch_size=BATCH_SIZE,\n",
    "                                              shuffle=True, num_workers=2)\n",
    "\n",
    "    testset = torchvision.datasets.CIFAR10(root='./data', train=False,\n",
    "                                           download=True, transform=transform)\n",
    "    testloader = torch.utils.data.DataLoader(testset, batch_size=BATCH_SIZE,\n",
    "                                             shuffle=False, num_workers=2)\n",
    "\n",
    "    classes = ('plane', 'car', 'bird', 'cat',\n",
    "               'deer', 'dog', 'frog', 'horse', 'ship', 'truck')\n",
    "\n",
    "    print('Building model...')\n",
    "    net = Net().cuda()\n",
    "#     net = Net()\n",
    "#     net_loaded = torch.load('Q1/Q1_with.pth')\n",
    "#     model_dict = net.state_dict()\n",
    "    \n",
    "#     for key in net_loaded.keys():\n",
    "#         if key in model_dict:\n",
    "#             del model_dict[key]\n",
    "            \n",
    "    \n",
    "#     model_dict.update(net_loaded)\n",
    "    \n",
    "#     net.load_state_dict(model_dict)\n",
    "    \n",
    "#     net.fc2 = nn.Linear(512, 10)\n",
    "#     net.cuda()\n",
    "    \n",
    "    net.train() # Why would I do this?\n",
    "\n",
    "    criterion = nn.CrossEntropyLoss()\n",
    "    #optimizer = optim.SGD(net.parameters(), lr=0.01, momentum=0.9)\n",
    "    optimizer = optim.Adam(net.parameters(), lr=0.01,betas=(0.9,0.99))\n",
    "    print('Start training...')\n",
    "    for epoch in range(MAX_EPOCH):  # loop over the dataset multiple times\n",
    "\n",
    "        running_loss = 0.0\n",
    "        for i, data in enumerate(trainloader, 0):\n",
    "            # get the inputs\n",
    "            inputs, labels = data\n",
    "            shape = [inputs.shape,labels.shape]\n",
    "            # wrap them in Variable\n",
    "            inputs, labels = Variable(inputs).cuda(), Variable(labels).cuda()\n",
    "\n",
    "            # zero the parameter gradients\n",
    "            optimizer.zero_grad()\n",
    "\n",
    "            # forward + backward + optimize\n",
    "            outputs = net(inputs)\n",
    "            loss = criterion(outputs, labels)\n",
    "            loss.backward()\n",
    "            optimizer.step()\n",
    "            # print statistics\n",
    "            running_loss += loss.item()\n",
    "            if i % 500 == 499:    # print every 2000 mini-batches\n",
    "                print('    Step: %5d avg_batch_loss: %.5f' %\n",
    "                      (i + 1, running_loss / 500))\n",
    "                running_loss = 0.0\n",
    "        print('    Finish training this EPOCH, start evaluating...')\n",
    "        train_loss, train_acc = eval_net(trainloader)\n",
    "        all_info['train']['acc_y'].append(train_acc)\n",
    "        all_info['train']['loss_y'].append(train_loss)\n",
    "\n",
    "\n",
    "\n",
    "        test_loss, test_acc = eval_net(testloader)\n",
    "        all_info['test']['acc_y'].append(test_acc)\n",
    "        all_info['test']['loss_y'].append(test_loss)\n",
    "        print(\"shapes:\",shape[0],shape[1])\n",
    "        print('EPOCH: %d train_loss: %.5f train_acc: %.5f test_loss: %.5f test_acc %.5f' %\n",
    "              (epoch+1, train_loss, train_acc, test_loss, test_acc))\n",
    "    print('Finished Training')\n",
    "    print('Saving model...')"
   ]
  },
  {
   "cell_type": "code",
   "execution_count": 5,
   "metadata": {},
   "outputs": [],
   "source": [
    "torch.save(net.state_dict(), 'Q4/Q4b.pth')"
   ]
  },
  {
   "cell_type": "code",
   "execution_count": 13,
   "metadata": {},
   "outputs": [],
   "source": [
    "pd.DataFrame({\n",
    "        'epochs':all_info['train']['x'],\n",
    "        'Train Accuracy':all_info['train']['acc_y'],\n",
    "        'Test Accuracy':all_info['test']['acc_y'],\n",
    "        'Train Loss':all_info['train']['loss_y'],\n",
    "        'Test Loss':all_info['test']['loss_y']\n",
    "        }).to_csv(\"Q4/Q4b.csv\",index=False)\n"
   ]
  },
  {
   "cell_type": "code",
   "execution_count": 18,
   "metadata": {},
   "outputs": [],
   "source": [
    "data = pd.read_csv('Q4/Q4a.csv')"
   ]
  },
  {
   "cell_type": "code",
   "execution_count": 15,
   "metadata": {},
   "outputs": [
    {
     "data": {
      "text/html": [
       "<div>\n",
       "<style scoped>\n",
       "    .dataframe tbody tr th:only-of-type {\n",
       "        vertical-align: middle;\n",
       "    }\n",
       "\n",
       "    .dataframe tbody tr th {\n",
       "        vertical-align: top;\n",
       "    }\n",
       "\n",
       "    .dataframe thead th {\n",
       "        text-align: right;\n",
       "    }\n",
       "</style>\n",
       "<table border=\"1\" class=\"dataframe\">\n",
       "  <thead>\n",
       "    <tr style=\"text-align: right;\">\n",
       "      <th></th>\n",
       "      <th>epochs</th>\n",
       "      <th>Train Accuracy</th>\n",
       "      <th>Test Accuracy</th>\n",
       "      <th>Train Loss</th>\n",
       "      <th>Test Loss</th>\n",
       "    </tr>\n",
       "  </thead>\n",
       "  <tbody>\n",
       "    <tr>\n",
       "      <th>0</th>\n",
       "      <td>1</td>\n",
       "      <td>0.59234</td>\n",
       "      <td>0.5758</td>\n",
       "      <td>1.146814</td>\n",
       "      <td>1.193919</td>\n",
       "    </tr>\n",
       "    <tr>\n",
       "      <th>1</th>\n",
       "      <td>2</td>\n",
       "      <td>0.63600</td>\n",
       "      <td>0.6181</td>\n",
       "      <td>1.005286</td>\n",
       "      <td>1.072546</td>\n",
       "    </tr>\n",
       "    <tr>\n",
       "      <th>2</th>\n",
       "      <td>3</td>\n",
       "      <td>0.74672</td>\n",
       "      <td>0.6944</td>\n",
       "      <td>0.716404</td>\n",
       "      <td>0.863987</td>\n",
       "    </tr>\n",
       "    <tr>\n",
       "      <th>3</th>\n",
       "      <td>4</td>\n",
       "      <td>0.75504</td>\n",
       "      <td>0.6879</td>\n",
       "      <td>0.683778</td>\n",
       "      <td>0.898638</td>\n",
       "    </tr>\n",
       "    <tr>\n",
       "      <th>4</th>\n",
       "      <td>5</td>\n",
       "      <td>0.80400</td>\n",
       "      <td>0.7115</td>\n",
       "      <td>0.564552</td>\n",
       "      <td>0.855377</td>\n",
       "    </tr>\n",
       "    <tr>\n",
       "      <th>5</th>\n",
       "      <td>6</td>\n",
       "      <td>0.86534</td>\n",
       "      <td>0.7401</td>\n",
       "      <td>0.398808</td>\n",
       "      <td>0.774903</td>\n",
       "    </tr>\n",
       "    <tr>\n",
       "      <th>6</th>\n",
       "      <td>7</td>\n",
       "      <td>0.89260</td>\n",
       "      <td>0.7390</td>\n",
       "      <td>0.311381</td>\n",
       "      <td>0.812088</td>\n",
       "    </tr>\n",
       "    <tr>\n",
       "      <th>7</th>\n",
       "      <td>8</td>\n",
       "      <td>0.90402</td>\n",
       "      <td>0.7339</td>\n",
       "      <td>0.280833</td>\n",
       "      <td>0.848266</td>\n",
       "    </tr>\n",
       "    <tr>\n",
       "      <th>8</th>\n",
       "      <td>9</td>\n",
       "      <td>0.94604</td>\n",
       "      <td>0.7449</td>\n",
       "      <td>0.168613</td>\n",
       "      <td>0.864243</td>\n",
       "    </tr>\n",
       "    <tr>\n",
       "      <th>9</th>\n",
       "      <td>10</td>\n",
       "      <td>0.95988</td>\n",
       "      <td>0.7529</td>\n",
       "      <td>0.130826</td>\n",
       "      <td>0.888371</td>\n",
       "    </tr>\n",
       "  </tbody>\n",
       "</table>\n",
       "</div>"
      ],
      "text/plain": [
       "   epochs  Train Accuracy  Test Accuracy  Train Loss  Test Loss\n",
       "0       1         0.59234         0.5758    1.146814   1.193919\n",
       "1       2         0.63600         0.6181    1.005286   1.072546\n",
       "2       3         0.74672         0.6944    0.716404   0.863987\n",
       "3       4         0.75504         0.6879    0.683778   0.898638\n",
       "4       5         0.80400         0.7115    0.564552   0.855377\n",
       "5       6         0.86534         0.7401    0.398808   0.774903\n",
       "6       7         0.89260         0.7390    0.311381   0.812088\n",
       "7       8         0.90402         0.7339    0.280833   0.848266\n",
       "8       9         0.94604         0.7449    0.168613   0.864243\n",
       "9      10         0.95988         0.7529    0.130826   0.888371"
      ]
     },
     "execution_count": 15,
     "metadata": {},
     "output_type": "execute_result"
    }
   ],
   "source": [
    "data.head(29)"
   ]
  },
  {
   "cell_type": "code",
   "execution_count": 9,
   "metadata": {},
   "outputs": [
    {
     "data": {
      "image/png": "[encoded data removed]",
      "text/plain": [
       "<Figure size 720x432 with 1 Axes>"
      ]
     },
     "metadata": {},
     "output_type": "display_data"
    }
   ],
   "source": [
    "plt.figure(figsize=(10,6))\n",
    "plt.plot(data['Test Accuracy'],label=\"Test Accuracy\")\n",
    "plt.plot(data['Train Accuracy'],label='Train Accuracy')\n",
    "plt.title(\"Accuracy vs Epochs\",fontweight='bold',fontsize=16)\n",
    "plt.xlabel('epochs')\n",
    "plt.ylabel('accuracy')\n",
    "plt.legend(loc='best')\n",
    "\n",
    "#plt.show()\n",
    "plt.savefig('Q4/Q4b_1.png')"
   ]
  },
  {
   "cell_type": "code",
   "execution_count": 10,
   "metadata": {},
   "outputs": [
    {
     "data": {
      "image/png": "[encoded data removed]",
      "text/plain": [
       "<Figure size 720x432 with 1 Axes>"
      ]
     },
     "metadata": {},
     "output_type": "display_data"
    }
   ],
   "source": [
    "plt.figure(figsize=(10,6))\n",
    "plt.plot(data['Test Loss'],label='Test Loss')\n",
    "plt.plot(data['Train Loss'],label='Train Loss')\n",
    "plt.title(\"Loss vs Epochs\",fontweight='bold',fontsize=16)\n",
    "plt.xlabel('epochs')\n",
    "plt.ylabel('loss')\n",
    "plt.legend(loc='best')\n",
    "#plt.show()\n",
    "plt.savefig('Q4/Q4b_2.png')"
   ]
  },
  {
   "cell_type": "code",
   "execution_count": 19,
   "metadata": {},
   "outputs": [
    {
     "data": {
      "text/plain": [
       "0.9393600000000001"
      ]
     },
     "execution_count": 19,
     "metadata": {},
     "output_type": "execute_result"
    }
   ],
   "source": [
    "data['Train Accuracy'].max()"
   ]
  },
  {
   "cell_type": "code",
   "execution_count": 20,
   "metadata": {},
   "outputs": [
    {
     "data": {
      "text/plain": [
       "0.7448"
      ]
     },
     "execution_count": 20,
     "metadata": {},
     "output_type": "execute_result"
    }
   ],
   "source": [
    "data['Test Accuracy'].max()"
   ]
  },
  {
   "cell_type": "code",
   "execution_count": 27,
   "metadata": {},
   "outputs": [
    {
     "name": "stdout",
     "output_type": "stream",
     "text": [
      "0.95988\n",
      "0.7529\n"
     ]
    }
   ],
   "source": [
    "data = pd.read_csv('Q4/Q4b.csv')\n",
    "print(data['Train Accuracy'].max())\n",
    "print(data['Test Accuracy'].max())"
   ]
  },
  {
   "cell_type": "code",
   "execution_count": null,
   "metadata": {},
   "outputs": [],
   "source": []
  }
 ],
 "metadata": {
  "kernelspec": {
   "display_name": "Python 3",
   "language": "python",
   "name": "python3"
  },
  "language_info": {
   "codemirror_mode": {
    "name": "ipython",
    "version": 3
   },
   "file_extension": ".py",
   "mimetype": "text/x-python",
   "name": "python",
   "nbconvert_exporter": "python",
   "pygments_lexer": "ipython3",
   "version": "3.6.5"
  }
 },
 "nbformat": 4,
 "nbformat_minor": 2
}
